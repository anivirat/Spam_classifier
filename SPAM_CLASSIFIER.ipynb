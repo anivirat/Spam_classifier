{
  "nbformat": 4,
  "nbformat_minor": 0,
  "metadata": {
    "colab": {
      "private_outputs": true,
      "provenance": []
    },
    "kernelspec": {
      "name": "python3",
      "display_name": "Python 3"
    },
    "language_info": {
      "name": "python"
    }
  },
  "cells": [
    {
      "cell_type": "code",
      "source": [
        "#importing all libs"
      ],
      "metadata": {
        "id": "xJrgTYEAFkPp"
      },
      "execution_count": null,
      "outputs": []
    },
    {
      "cell_type": "code",
      "execution_count": null,
      "metadata": {
        "id": "4cLHEqIhtamU"
      },
      "outputs": [],
      "source": [
        "import pandas as pd\n",
        "import numpy as np\n",
        "import matplotlib.pyplot as plt\n",
        "import seaborn as sns"
      ]
    },
    {
      "cell_type": "code",
      "source": [
        "from sklearn.naive_bayes import GaussianNB,MultinomialNB,BernoulliNB\n",
        "from sklearn.linear_model import LogisticRegression\n",
        "from sklearn.svm import SVC\n",
        "from sklearn.tree import DecisionTreeClassifier\n",
        "from sklearn.ensemble import RandomForestClassifier\n",
        "from sklearn.neighbors import KNeighborsClassifier\n",
        "from sklearn.metrics import accuracy_score,confusion_matrix,precision_score"
      ],
      "metadata": {
        "id": "QBxNOQSXGGgJ"
      },
      "execution_count": null,
      "outputs": []
    },
    {
      "cell_type": "code",
      "source": [
        "from google.colab import files\n",
        "uploaded = files.upload()"
      ],
      "metadata": {
        "id": "ZE_nBD2FuMmC"
      },
      "execution_count": null,
      "outputs": []
    },
    {
      "source": [
        "# Try reading the CSV with a different encoding\n",
        "df=pd.read_csv('spam.csv', encoding='latin-1')"
      ],
      "cell_type": "code",
      "metadata": {
        "id": "oEibMLNtwhu9"
      },
      "execution_count": null,
      "outputs": []
    },
    {
      "cell_type": "code",
      "source": [
        "df.sample()"
      ],
      "metadata": {
        "id": "aIrcPLs6xPbw"
      },
      "execution_count": null,
      "outputs": []
    },
    {
      "cell_type": "code",
      "source": [
        "df.shape"
      ],
      "metadata": {
        "id": "Bg2FM3vKwiC3"
      },
      "execution_count": null,
      "outputs": []
    },
    {
      "cell_type": "markdown",
      "source": [
        "##Data cleaning\n"
      ],
      "metadata": {
        "id": "fbTFDILixVZT"
      }
    },
    {
      "cell_type": "code",
      "source": [
        "df.info()"
      ],
      "metadata": {
        "id": "VKzFu1xSxUjw"
      },
      "execution_count": null,
      "outputs": []
    },
    {
      "cell_type": "code",
      "source": [
        "df.drop(columns=[\"Unnamed: 2\",\"Unnamed: 3\",\"Unnamed: 4\"],inplace=True)"
      ],
      "metadata": {
        "id": "RgMYJZC3w8zj"
      },
      "execution_count": null,
      "outputs": []
    },
    {
      "cell_type": "code",
      "source": [
        "df.head(2)"
      ],
      "metadata": {
        "id": "09WFXKt-x9RB"
      },
      "execution_count": null,
      "outputs": []
    },
    {
      "cell_type": "code",
      "source": [
        "df.rename(columns={\"v1\":\"target\",\"v2\":\"text\"},inplace=True)"
      ],
      "metadata": {
        "id": "3u6eNQXMyFj7"
      },
      "execution_count": null,
      "outputs": []
    },
    {
      "cell_type": "code",
      "source": [
        "from sklearn.preprocessing import LabelEncoder\n",
        "encoder=LabelEncoder()"
      ],
      "metadata": {
        "id": "2imntsCQySaz"
      },
      "execution_count": null,
      "outputs": []
    },
    {
      "cell_type": "code",
      "source": [
        "encoder.fit_transform(df[\"target\"])"
      ],
      "metadata": {
        "id": "dAWKQjwyyeX5"
      },
      "execution_count": null,
      "outputs": []
    },
    {
      "cell_type": "code",
      "source": [
        "# Apply the transformation to the 'target' column\n",
        "df[\"target\"] = encoder.fit_transform(df[\"target\"])"
      ],
      "metadata": {
        "id": "7rg8Ss0w_Vgd"
      },
      "execution_count": null,
      "outputs": []
    },
    {
      "cell_type": "markdown",
      "source": [
        "missing values"
      ],
      "metadata": {
        "id": "mKVPTnBUyzV6"
      }
    },
    {
      "cell_type": "code",
      "source": [
        "df.isnull().sum()"
      ],
      "metadata": {
        "id": "4TBY4x91y1RJ"
      },
      "execution_count": null,
      "outputs": []
    },
    {
      "cell_type": "code",
      "source": [
        "#check duplicate values\n",
        "df.duplicated().sum()"
      ],
      "metadata": {
        "id": "nCKql2GUyyqq"
      },
      "execution_count": null,
      "outputs": []
    },
    {
      "cell_type": "code",
      "source": [
        "#remove duplicats\n",
        "df=df.drop_duplicates(keep=\"first\")"
      ],
      "metadata": {
        "id": "CyDG2CJfzBJa"
      },
      "execution_count": null,
      "outputs": []
    },
    {
      "cell_type": "code",
      "source": [
        "df.shape"
      ],
      "metadata": {
        "id": "U8Jj-8DAzgu_"
      },
      "execution_count": null,
      "outputs": []
    },
    {
      "cell_type": "markdown",
      "source": [
        "## 2.EDA"
      ],
      "metadata": {
        "id": "TwC-XQwf0Fuu"
      }
    },
    {
      "cell_type": "code",
      "source": [
        "df[\"target\"].value_counts()"
      ],
      "metadata": {
        "id": "a3-3qzrG0JYm"
      },
      "execution_count": null,
      "outputs": []
    },
    {
      "cell_type": "code",
      "source": [
        "import matplotlib.pyplot as plt\n",
        "plt.pie(df[\"target\"].value_counts(),labels=[\"ham\",\"spam\"],autopct=\"%0.2f\")"
      ],
      "metadata": {
        "id": "dssiva19zrZE"
      },
      "execution_count": null,
      "outputs": []
    },
    {
      "cell_type": "markdown",
      "source": [
        "## 3.Data preprocessing"
      ],
      "metadata": {
        "id": "9iKDSPul2AbR"
      }
    },
    {
      "cell_type": "code",
      "source": [
        "import nltk\n",
        "nltk.download('punkt')\n",
        "nltk.download('punkt_tab')\n"
      ],
      "metadata": {
        "id": "UcyP6boJ27bb"
      },
      "execution_count": null,
      "outputs": []
    },
    {
      "cell_type": "code",
      "source": [
        "from nltk.corpus import stopwords\n",
        "import string\n",
        "nltk.download('stopwords')\n",
        "from nltk.stem.porter import PorterStemmer\n",
        "ps=PorterStemmer()\n"
      ],
      "metadata": {
        "id": "YBFx3HvR6qVC"
      },
      "execution_count": null,
      "outputs": []
    },
    {
      "cell_type": "code",
      "source": [
        "def transform_text(text):\n",
        "  text=text.lower()\n",
        "  text=nltk.word_tokenize(text)\n",
        "  y=[]\n",
        "  for i in text :\n",
        "      if i.isalnum():\n",
        "        y.append(i)\n",
        "  text=y[:]\n",
        "  y.clear()\n",
        "  for i in text:\n",
        "    if i not in stopwords.words('english') and i not in string.punctuation:\n",
        "       y.append(i)\n",
        "\n",
        "  text=y[:]\n",
        "  y.clear()\n",
        "\n",
        "  for i in text:\n",
        "    y.append(ps.stem(i))\n",
        "  return y"
      ],
      "metadata": {
        "id": "xlfP8skH2KNG"
      },
      "execution_count": null,
      "outputs": []
    },
    {
      "cell_type": "code",
      "source": [
        "transform_text(\"I'm gonna be home soon and i don't want to talk about this stuff anymore tonight, k? I've cried enough today.\")"
      ],
      "metadata": {
        "id": "ERB8b5JK3i11"
      },
      "execution_count": null,
      "outputs": []
    },
    {
      "cell_type": "code",
      "source": [
        "df[\"transformed_text\"]=df[\"text\"].apply(transform_text)"
      ],
      "metadata": {
        "id": "S96NRO4V8SJD"
      },
      "execution_count": null,
      "outputs": []
    },
    {
      "cell_type": "code",
      "source": [
        "df.head()"
      ],
      "metadata": {
        "id": "fetreyoe8NPU"
      },
      "execution_count": null,
      "outputs": []
    },
    {
      "cell_type": "code",
      "source": [],
      "metadata": {
        "id": "7rucop489s0D"
      },
      "execution_count": null,
      "outputs": []
    },
    {
      "cell_type": "code",
      "source": [
        "#word cloud of spam sms\n",
        "!pip install wordcloud\n"
      ],
      "metadata": {
        "id": "_odtzruR9OBN"
      },
      "execution_count": null,
      "outputs": []
    },
    {
      "cell_type": "code",
      "source": [],
      "metadata": {
        "id": "ZHseAG5Q93mx"
      },
      "execution_count": null,
      "outputs": []
    },
    {
      "source": [
        "#word cloud of spam sms\n",
        "!pip install wordcloud\n",
        "from wordcloud import WordCloud\n",
        "wc=WordCloud(width=500,height=500,min_font_size=10,background_color=\"white\")"
      ],
      "cell_type": "code",
      "metadata": {
        "collapsed": true,
        "id": "38u1UWoi96Oz"
      },
      "execution_count": null,
      "outputs": []
    },
    {
      "cell_type": "code",
      "source": [
        "spam_wc=wc.generate(df[df[\"target\"]==0][\"transformed_text\"].str.cat(sep=\" \"))\n"
      ],
      "metadata": {
        "id": "ni1ZxoHw_Amh"
      },
      "execution_count": null,
      "outputs": []
    },
    {
      "source": [
        "# word cloud of spam sms\n",
        "!pip install wordcloud\n",
        "from wordcloud import WordCloud\n",
        "wc=WordCloud(width=500,height=500,min_font_size=10,background_color=\"white\")\n",
        "\n",
        "# Join the list of words into a single string for each row\n",
        "df[\"transformed_text_str\"] = df[\"transformed_text\"].apply(lambda x: \" \".join(x))\n",
        "\n",
        "# Generate the word cloud using the new string column\n",
        "spam_wc=wc.generate(df[df[\"target\"]==1][\"transformed_text_str\"].str.cat(sep=\" \"))"
      ],
      "cell_type": "code",
      "metadata": {
        "id": "r3KAI0HP_pQ1"
      },
      "execution_count": null,
      "outputs": []
    },
    {
      "cell_type": "code",
      "source": [
        "plt.figure(figsize=(5,5))\n",
        "plt.imshow(spam_wc)"
      ],
      "metadata": {
        "id": "kVSanS3E_A7s"
      },
      "execution_count": null,
      "outputs": []
    },
    {
      "cell_type": "code",
      "source": [
        "ham_wc=wc.generate(df[df[\"target\"]==0][\"transformed_text_str\"].str.cat(sep=\" \"))"
      ],
      "metadata": {
        "id": "4tWRr3hf_74f"
      },
      "execution_count": null,
      "outputs": []
    },
    {
      "cell_type": "code",
      "source": [
        "plt.figure(figsize=(5,5))\n",
        "plt.imshow(ham_wc)"
      ],
      "metadata": {
        "id": "h9fSRsNdA9I3"
      },
      "execution_count": null,
      "outputs": []
    },
    {
      "cell_type": "code",
      "source": [
        "#top 30 words\n",
        "spam_corpus=[]\n",
        "for msg in df[df[\"target\"]==1][\"transformed_text_str\"].tolist():\n",
        "    for word in msg.split():\n",
        "        spam_corpus.append(word)"
      ],
      "metadata": {
        "id": "7hQIKILhBU5t"
      },
      "execution_count": null,
      "outputs": []
    },
    {
      "cell_type": "code",
      "source": [
        "len(spam_corpus )"
      ],
      "metadata": {
        "id": "2_GnCPfYB6OC"
      },
      "execution_count": null,
      "outputs": []
    },
    {
      "cell_type": "code",
      "source": [
        "spam_corpus[:20]"
      ],
      "metadata": {
        "id": "A6aypLBqCpi3"
      },
      "execution_count": null,
      "outputs": []
    },
    {
      "cell_type": "code",
      "source": [
        "#top 30 words\n",
        "spam_corpus=[]\n",
        "for msg in df[df[\"target\"]==0][\"transformed_text_str\"].tolist():\n",
        "    for word in msg.split():\n",
        "        spam_corpus.append(word)"
      ],
      "metadata": {
        "id": "9qxf77rSC7BG"
      },
      "execution_count": null,
      "outputs": []
    },
    {
      "cell_type": "code",
      "source": [
        "spam_corpus[:20]\n"
      ],
      "metadata": {
        "id": "C_Zsw96xDzmE"
      },
      "execution_count": null,
      "outputs": []
    },
    {
      "cell_type": "markdown",
      "source": [
        "## 4.Model Building"
      ],
      "metadata": {
        "id": "rmtEJVlHECA4"
      }
    },
    {
      "cell_type": "code",
      "source": [
        "from sklearn.feature_extraction.text import CountVectorizer,TfidfVectorizer\n",
        "cv=CountVectorizer()\n",
        "tdf=TfidfVectorizer(max_features=3000)"
      ],
      "metadata": {
        "id": "FkIbus5bEIlb"
      },
      "execution_count": null,
      "outputs": []
    },
    {
      "cell_type": "code",
      "source": [
        "x=tdf.fit_transform(df[\"transformed_text_str\"]).toarray()"
      ],
      "metadata": {
        "id": "5a1z1s6bD3GN"
      },
      "execution_count": null,
      "outputs": []
    },
    {
      "cell_type": "code",
      "source": [
        "x.shape"
      ],
      "metadata": {
        "id": "QrCd7OVwFLx9"
      },
      "execution_count": null,
      "outputs": []
    },
    {
      "cell_type": "code",
      "source": [
        "y=df[\"target\"].values"
      ],
      "metadata": {
        "id": "Zuy6FdSQFsRL"
      },
      "execution_count": null,
      "outputs": []
    },
    {
      "cell_type": "code",
      "source": [
        "y"
      ],
      "metadata": {
        "id": "LzOrZzdFFyL3"
      },
      "execution_count": null,
      "outputs": []
    },
    {
      "cell_type": "code",
      "source": [
        "from sklearn.model_selection import train_test_split\n",
        "x_train, x_test, y_train, y_test = train_test_split(x, y, test_size = 0.2)"
      ],
      "metadata": {
        "id": "fT5bsWPdF0sh"
      },
      "execution_count": null,
      "outputs": []
    },
    {
      "cell_type": "code",
      "source": [
        "from sklearn.naive_bayes import GaussianNB,MultinomialNB,BernoulliNB\n",
        "from sklearn.metrics import accuracy_score,confusion_matrix,precision_score\n",
        "gnb=GaussianNB()\n",
        "mnb=MultinomialNB()\n",
        "bnb=BernoulliNB()"
      ],
      "metadata": {
        "id": "rqpJAwikF9j5"
      },
      "execution_count": null,
      "outputs": []
    },
    {
      "cell_type": "code",
      "source": [
        "gnb.fit (x_train,y_train)\n",
        "y_pred1=gnb.predict(x_test)\n",
        "print(accuracy_score(y_test,y_pred1))"
      ],
      "metadata": {
        "id": "2BjCee7CGOEd"
      },
      "execution_count": null,
      "outputs": []
    },
    {
      "cell_type": "code",
      "source": [
        "mnb.fit (x_train,y_train)\n",
        "y_pred2=mnb.predict(x_test)\n",
        "print(accuracy_score(y_test,y_pred2))"
      ],
      "metadata": {
        "id": "3sY5WxxVGVHZ"
      },
      "execution_count": null,
      "outputs": []
    },
    {
      "cell_type": "code",
      "source": [
        "bnb.fit (x_train,y_train)\n",
        "y_pred3=bnb.predict(x_test)\n",
        "print(accuracy_score(y_test,y_pred3))"
      ],
      "metadata": {
        "id": "CTxTzk7fGeNP"
      },
      "execution_count": null,
      "outputs": []
    },
    {
      "cell_type": "code",
      "source": [
        "\n",
        "lrc = LogisticRegression(solver='liblinear', penalty='l1')\n",
        "nv=BernoulliNB(alpha=0.5,binarize=None)\n",
        "svc = SVC(kernel='sigmoid', gamma=1.0)\n",
        "dtc = DecisionTreeClassifier(max_depth=5)\n",
        "rfc = RandomForestClassifier(n_estimators=50, random_state=2)\n",
        "knc = KNeighborsClassifier(n_neighbors=5)\n",
        "\n",
        "clfs = {\n",
        "    'SVC' : svc,\n",
        "    'NV': nv,\n",
        "    'LRC': lrc,\n",
        "    'KN' : knc,\n",
        "    'DT': dtc,\n",
        "    'RF': rfc,\n",
        "}\n"
      ],
      "metadata": {
        "id": "kljjpGf8IVBv"
      },
      "execution_count": null,
      "outputs": []
    },
    {
      "cell_type": "code",
      "source": [
        "# Function to train and evaluate a classifier\n",
        "def train_classifier(clf, x_train, y_train, x_test, y_test):\n",
        "    clf.fit(x_train, y_train)\n",
        "    y_pred = clf.predict(x_test)\n",
        "    accuracy = accuracy_score(y_test, y_pred)\n",
        "    precision = precision_score(y_test, y_pred)\n",
        "    return accuracy, precision"
      ],
      "metadata": {
        "id": "GvV2FhCgIhBq"
      },
      "execution_count": null,
      "outputs": []
    },
    {
      "cell_type": "code",
      "source": [
        "train_classifier(svc, x_train, y_train, x_test, y_test)"
      ],
      "metadata": {
        "id": "zDteSyTYMV1t"
      },
      "execution_count": null,
      "outputs": []
    },
    {
      "cell_type": "code",
      "source": [
        "accuracy_scores.append(current_accuracy)\n",
        "precision_scores.append(current_precision)"
      ],
      "metadata": {
        "id": "VC69vBajNSze"
      },
      "execution_count": null,
      "outputs": []
    },
    {
      "cell_type": "code",
      "source": [
        "\n",
        "# Train and evaluate each classifier\n",
        "accuracy_scores = []\n",
        "precision_scores = []\n",
        "algorithm_names = []\n",
        "\n",
        "for name, clf in clfs.items():\n",
        "    current_accuracy, current_precision = train_classifier(clf, x_train, y_train, x_test, y_test)\n",
        "    accuracy_scores.append(current_accuracy)\n",
        "    precision_scores.append(current_precision)\n",
        "    algorithm_names.append(name)\n",
        "\n",
        "    print(\"for\",name)\n",
        "    print(\"Accuracy:\", current_accuracy)\n",
        "    print(\"Precision:\", current_precision)\n",
        "\n",
        "\n",
        "\n",
        "performance_df = pd.DataFrame({'Algorithm': algorithm_names, 'Accuracy': accuracy_scores, 'Precision': precision_scores}).sort_values('Precision', ascending=False)\n"
      ],
      "metadata": {
        "id": "VtuNcrIeP-5G"
      },
      "execution_count": null,
      "outputs": []
    },
    {
      "cell_type": "code",
      "source": [
        "performance_df_acc = pd.DataFrame({'Algorithm': algorithm_names, 'Accuracy': accuracy_scores, 'Precision': precision_scores}).sort_values('Accuracy', ascending=False)\n"
      ],
      "metadata": {
        "id": "Lir68Su9Wv1Z"
      },
      "execution_count": null,
      "outputs": []
    },
    {
      "cell_type": "code",
      "source": [
        "performance_df_acc"
      ],
      "metadata": {
        "id": "wOpRIEkbW4C9"
      },
      "execution_count": null,
      "outputs": []
    },
    {
      "cell_type": "code",
      "source": [
        "performance_df"
      ],
      "metadata": {
        "id": "EU6XeBLIQUzN"
      },
      "execution_count": null,
      "outputs": []
    },
    {
      "cell_type": "code",
      "source": [],
      "metadata": {
        "id": "mrnfgA_pQVJk"
      },
      "execution_count": null,
      "outputs": []
    }
  ]
}